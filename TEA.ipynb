{
 "cells": [
  {
   "cell_type": "markdown",
   "id": "7ae557b4-285f-455e-8725-c0a15efc297d",
   "metadata": {},
   "source": [
    "## Tiny Encryption Algorithm\n",
    "resources used:\n",
    "https://en.wikipedia.org/wiki/Tiny_Encryption_Algorithm\n",
    "https://gist.github.com/twheys/4e83567942172f8ba85058fae6bfeef5"
   ]
  },
  {
   "cell_type": "code",
   "execution_count": 46,
   "id": "66b104a1-b47f-42d4-8adf-c678535e0428",
   "metadata": {},
   "outputs": [],
   "source": [
    "import base64\n",
    "import ctypes\n",
    "import itertools\n",
    "import math"
   ]
  },
  {
   "cell_type": "code",
   "execution_count": 81,
   "id": "7a670336-f490-4ede-989c-2ff0e5b5a473",
   "metadata": {},
   "outputs": [],
   "source": [
    "#just call the encrypt and decrypt functions as needed i linked all the resources i uesd while implementing the TEA function"
   ]
  },
  {
   "cell_type": "code",
   "execution_count": 69,
   "id": "bdcce356-5284-4975-9a97-f72e4aea99cb",
   "metadata": {},
   "outputs": [],
   "source": [
    "def _chunks(iterable, n):\n",
    "    it = iter(iterable)\n",
    "    while True:\n",
    "        chunk = tuple(itertools.islice(it, n))\n",
    "        if not chunk:\n",
    "            return\n",
    "        yield chunk"
   ]
  },
  {
   "cell_type": "code",
   "execution_count": 70,
   "id": "6c1a22e5-8fb4-423b-a1f1-de2d6fa6d5b2",
   "metadata": {},
   "outputs": [],
   "source": [
    "def _str2vec(value):\n",
    "    l=4\n",
    "    n = len(value)\n",
    "    num = math.ceil(n / l)\n",
    "    chunks = [value[l * i:l * (i + 1)]\n",
    "              for i in range(num)]\n",
    "\n",
    "    return [sum([character << 8 * j\n",
    "                 for j, character in enumerate(chunk)])\n",
    "            for chunk in chunks]\n"
   ]
  },
  {
   "cell_type": "code",
   "execution_count": 71,
   "id": "c22b51b4-5c85-4a5d-9371-eb7916649447",
   "metadata": {},
   "outputs": [],
   "source": [
    "def _vec2str(vector):\n",
    "    l=4\n",
    "    return bytes((element >> 8 * i) & 0xff\n",
    "                 for element in vector\n",
    "                 for i in range(l)).replace(b'\\x00', b'')"
   ]
  },
  {
   "cell_type": "code",
   "execution_count": 72,
   "id": "3ff90a8f-da7e-4c93-9c4f-1a75cd3ac9b5",
   "metadata": {},
   "outputs": [],
   "source": [
    "def _encipher(m, k):\n",
    "    y, z = [ctypes.c_uint32(x)\n",
    "            for x in m]\n",
    "    sum = ctypes.c_uint32(0)\n",
    "    delta = 0x9E3779B9\n",
    "\n",
    "    for n in range(32, 0, -1):\n",
    "        sum.value += delta\n",
    "        y.value += (z.value << 4) + k[0] ^ z.value + sum.value ^ (z.value >> 5) + k[1]\n",
    "        z.value += (y.value << 4) + k[2] ^ y.value + sum.value ^ (y.value >> 5) + k[3]\n",
    "\n",
    "    return [y.value, z.value]"
   ]
  },
  {
   "cell_type": "code",
   "execution_count": 73,
   "id": "87405f82-382c-4f39-a072-80bfba016896",
   "metadata": {},
   "outputs": [],
   "source": [
    "def _decipher(v, k):\n",
    "    y, z = [ctypes.c_uint32(x)\n",
    "            for x in m]\n",
    "    sum = ctypes.c_uint32(0xC6EF3720)\n",
    "    delta = 0x9E3779B9\n",
    "\n",
    "    for n in range(32, 0, -1):\n",
    "        z.value -= (y.value << 4) + k[2] ^ y.value + sum.value ^ (y.value >> 5) + k[3]\n",
    "        y.value -= (z.value << 4) + k[0] ^ z.value + sum.value ^ (z.value >> 5) + k[1]\n",
    "        sum.value -= delta\n",
    "\n",
    "    return [y.value, z.value]"
   ]
  },
  {
   "cell_type": "code",
   "execution_count": 77,
   "id": "be03363e-56d1-4858-b7c0-37f51a9164d9",
   "metadata": {},
   "outputs": [],
   "source": [
    "def encrypt(plaintext, key):\n",
    "    if not plaintext:\n",
    "        return ''\n",
    "\n",
    "    m = _str2vec(plaintext.encode())\n",
    "    k = _str2vec(key.encode()[:16])\n",
    "\n",
    "    bytearray = b''.join(_vec2str(_encipher(chunk, k))\n",
    "                         for chunk in _chunks(m, 2))\n",
    "\n",
    "    return base64.b64encode(bytearray).decode()"
   ]
  },
  {
   "cell_type": "code",
   "execution_count": 84,
   "id": "293a9571-c679-443a-b1f9-aee1123f9a92",
   "metadata": {},
   "outputs": [],
   "source": [
    "def decrypt(ciphertext, key):\n",
    "    if not ciphertext:\n",
    "        return ''\n",
    "\n",
    "    k = _str2vec(key.encode()[:16])\n",
    "    m = _str2vec(base64.b64decode(ciphertext.encode()))\n",
    "\n",
    "    return b''.join(_vec2str(_decipher(chunk, k))\n",
    "                    for chunk in _chunks(m, 2)).decode()"
   ]
  },
  {
   "cell_type": "code",
   "execution_count": 85,
   "id": "c8294318-3274-4e91-8f57-6ee84ac8b2dd",
   "metadata": {},
   "outputs": [
    {
     "ename": "NameError",
     "evalue": "name 'm' is not defined",
     "output_type": "error",
     "traceback": [
      "\u001b[1;31m---------------------------------------------------------------------------\u001b[0m",
      "\u001b[1;31mNameError\u001b[0m                                 Traceback (most recent call last)",
      "Cell \u001b[1;32mIn [85], line 1\u001b[0m\n\u001b[1;32m----> 1\u001b[0m \u001b[38;5;28mprint\u001b[39m(\u001b[43mdecrypt\u001b[49m\u001b[43m(\u001b[49m\u001b[38;5;124;43m'\u001b[39;49m\u001b[38;5;124;43m3LJ2zCUv6Pg=\u001b[39;49m\u001b[38;5;124;43m'\u001b[39;49m\u001b[43m,\u001b[49m\u001b[38;5;124;43m'\u001b[39;49m\u001b[38;5;124;43m0123456789abcdef\u001b[39;49m\u001b[38;5;124;43m'\u001b[39;49m\u001b[43m)\u001b[49m)\n",
      "Cell \u001b[1;32mIn [84], line 8\u001b[0m, in \u001b[0;36mdecrypt\u001b[1;34m(ciphertext, key)\u001b[0m\n\u001b[0;32m      5\u001b[0m k \u001b[38;5;241m=\u001b[39m _str2vec(key\u001b[38;5;241m.\u001b[39mencode()[:\u001b[38;5;241m16\u001b[39m])\n\u001b[0;32m      6\u001b[0m m \u001b[38;5;241m=\u001b[39m _str2vec(base64\u001b[38;5;241m.\u001b[39mb64decode(ciphertext\u001b[38;5;241m.\u001b[39mencode()))\n\u001b[1;32m----> 8\u001b[0m \u001b[38;5;28;01mreturn\u001b[39;00m \u001b[38;5;124;43mb\u001b[39;49m\u001b[38;5;124;43m'\u001b[39;49m\u001b[38;5;124;43m'\u001b[39;49m\u001b[38;5;241;43m.\u001b[39;49m\u001b[43mjoin\u001b[49m\u001b[43m(\u001b[49m\u001b[43m_vec2str\u001b[49m\u001b[43m(\u001b[49m\u001b[43m_decipher\u001b[49m\u001b[43m(\u001b[49m\u001b[43mchunk\u001b[49m\u001b[43m,\u001b[49m\u001b[43m \u001b[49m\u001b[43mk\u001b[49m\u001b[43m)\u001b[49m\u001b[43m)\u001b[49m\n\u001b[0;32m      9\u001b[0m \u001b[43m                \u001b[49m\u001b[38;5;28;43;01mfor\u001b[39;49;00m\u001b[43m \u001b[49m\u001b[43mchunk\u001b[49m\u001b[43m \u001b[49m\u001b[38;5;129;43;01min\u001b[39;49;00m\u001b[43m \u001b[49m\u001b[43m_chunks\u001b[49m\u001b[43m(\u001b[49m\u001b[43mm\u001b[49m\u001b[43m,\u001b[49m\u001b[43m \u001b[49m\u001b[38;5;241;43m2\u001b[39;49m\u001b[43m)\u001b[49m\u001b[43m)\u001b[49m\u001b[38;5;241m.\u001b[39mdecode()\n",
      "Cell \u001b[1;32mIn [84], line 8\u001b[0m, in \u001b[0;36m<genexpr>\u001b[1;34m(.0)\u001b[0m\n\u001b[0;32m      5\u001b[0m k \u001b[38;5;241m=\u001b[39m _str2vec(key\u001b[38;5;241m.\u001b[39mencode()[:\u001b[38;5;241m16\u001b[39m])\n\u001b[0;32m      6\u001b[0m m \u001b[38;5;241m=\u001b[39m _str2vec(base64\u001b[38;5;241m.\u001b[39mb64decode(ciphertext\u001b[38;5;241m.\u001b[39mencode()))\n\u001b[1;32m----> 8\u001b[0m \u001b[38;5;28;01mreturn\u001b[39;00m \u001b[38;5;124mb\u001b[39m\u001b[38;5;124m'\u001b[39m\u001b[38;5;124m'\u001b[39m\u001b[38;5;241m.\u001b[39mjoin(_vec2str(\u001b[43m_decipher\u001b[49m\u001b[43m(\u001b[49m\u001b[43mchunk\u001b[49m\u001b[43m,\u001b[49m\u001b[43m \u001b[49m\u001b[43mk\u001b[49m\u001b[43m)\u001b[49m)\n\u001b[0;32m      9\u001b[0m                 \u001b[38;5;28;01mfor\u001b[39;00m chunk \u001b[38;5;129;01min\u001b[39;00m _chunks(m, \u001b[38;5;241m2\u001b[39m))\u001b[38;5;241m.\u001b[39mdecode()\n",
      "Cell \u001b[1;32mIn [73], line 3\u001b[0m, in \u001b[0;36m_decipher\u001b[1;34m(v, k)\u001b[0m\n\u001b[0;32m      1\u001b[0m \u001b[38;5;28;01mdef\u001b[39;00m \u001b[38;5;21m_decipher\u001b[39m(v, k):\n\u001b[0;32m      2\u001b[0m     y, z \u001b[38;5;241m=\u001b[39m [ctypes\u001b[38;5;241m.\u001b[39mc_uint32(x)\n\u001b[1;32m----> 3\u001b[0m             \u001b[38;5;28;01mfor\u001b[39;00m x \u001b[38;5;129;01min\u001b[39;00m \u001b[43mm\u001b[49m]\n\u001b[0;32m      4\u001b[0m     \u001b[38;5;28msum\u001b[39m \u001b[38;5;241m=\u001b[39m ctypes\u001b[38;5;241m.\u001b[39mc_uint32(\u001b[38;5;241m0xC6EF3720\u001b[39m)\n\u001b[0;32m      5\u001b[0m     delta \u001b[38;5;241m=\u001b[39m \u001b[38;5;241m0x9E3779B9\u001b[39m\n",
      "\u001b[1;31mNameError\u001b[0m: name 'm' is not defined"
     ]
    }
   ],
   "source": [
    "print(decrypt('3LJ2zCUv6Pg=','0123456789abcdef'))"
   ]
  },
  {
   "cell_type": "code",
   "execution_count": null,
   "id": "876531b8-c1cc-4963-8537-6eee46b2fa59",
   "metadata": {},
   "outputs": [],
   "source": []
  },
  {
   "cell_type": "code",
   "execution_count": null,
   "id": "43d9c160-a342-4cff-82d0-601aed64174a",
   "metadata": {},
   "outputs": [],
   "source": []
  }
 ],
 "metadata": {
  "kernelspec": {
   "display_name": "Python 3 (ipykernel)",
   "language": "python",
   "name": "python3"
  },
  "language_info": {
   "codemirror_mode": {
    "name": "ipython",
    "version": 3
   },
   "file_extension": ".py",
   "mimetype": "text/x-python",
   "name": "python",
   "nbconvert_exporter": "python",
   "pygments_lexer": "ipython3",
   "version": "3.10.7"
  }
 },
 "nbformat": 4,
 "nbformat_minor": 5
}

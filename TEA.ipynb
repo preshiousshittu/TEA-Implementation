{
 "cells": [
  {
   "cell_type": "markdown",
   "id": "7ae557b4-285f-455e-8725-c0a15efc297d",
   "metadata": {},
   "source": [
    "## Tiny Encryption Algorithm"
   ]
  },
  {
   "cell_type": "code",
   "execution_count": 10,
   "id": "66b104a1-b47f-42d4-8adf-c678535e0428",
   "metadata": {},
   "outputs": [],
   "source": [
    "import base64\n",
    "import ctypes\n",
    "import itertools\n",
    "import math"
   ]
  },
  {
   "cell_type": "code",
   "execution_count": 28,
   "id": "748d81db-5ea8-4e17-9a19-021786c21cdf",
   "metadata": {},
   "outputs": [],
   "source": [
    "def _str2vec(value):\n",
    "    l = 4\n",
    "    n = len(value)\n",
    "    num_chunks = math.ceil(n/1)\n",
    "    chunks = [value[l * i:l * (i +1)]\n",
    "              for i in range(num_chunks)]\n",
    "    result = [sum([character << 8 * j\n",
    "                 for j, character in enumerate(chunk)])\n",
    "              for chunk in chunks]\n",
    "    return result\n",
    "def _vec2str(vector, l=4):\n",
    "    result = bytes((element >> 8 * i) & 0xff\n",
    "                 for element in vector\n",
    "                 for i in range(l)).replace(b'\\x00', b'')\n",
    "    return result"
   ]
  },
  {
   "cell_type": "code",
   "execution_count": 34,
   "id": "a89dc968-4dab-42c3-8239-a258fd7ce514",
   "metadata": {},
   "outputs": [],
   "source": [
    "def _encipher(m, k):\n",
    "    y, z = [ctypes.c_uint32(x)\n",
    "            for x in m]\n",
    "    sum = ctypes.c_uint32(0)\n",
    "    delta = 0x9E3779B9\n",
    "    \n",
    "    for n in range(32, 0, -1):\n",
    "        sum.value += delta\n",
    "        y.value += (z.value << 4) + k[0] ^ z.value + sum.value ^ (z.value >> 5) + k[1]\n",
    "        z.value += (y.value << 4) + k[2] ^ y.value + sum.value ^ (y.value >> 5) + k[3]\n",
    "    return [y.value, z.value]"
   ]
  },
  {
   "cell_type": "code",
   "execution_count": 35,
   "id": "483e16e7-a4f7-4e98-ba25-987efb4669cf",
   "metadata": {},
   "outputs": [],
   "source": [
    "def _decipher(v, k):\n",
    "    y, z = [ctypes.c_uint32(x)\n",
    "            for x in v]\n",
    "    sum = ctypes.c_uint32(0xC6EF3720)\n",
    "    delta = 0x9E3779B9\n",
    "\n",
    "    for n in range(32, 0, -1):\n",
    "        z.value -= (y.value << 4) + k[2] ^ y.value + sum.value ^ (y.value >> 5) + k[3]\n",
    "        y.value -= (z.value << 4) + k[0] ^ z.value + sum.value ^ (z.value >> 5) + k[1]\n",
    "        sum.value -= delta\n",
    "\n",
    "    return [y.value, z.value]"
   ]
  },
  {
   "cell_type": "code",
   "execution_count": 36,
   "id": "1bd1ea32-976c-40d6-ac8d-e0c8fe3cb58d",
   "metadata": {},
   "outputs": [],
   "source": [
    "def _chunks(iterable, n):\n",
    "    it = iter(iterable)\n",
    "    while True:\n",
    "        chunk = tuple(itertools.islice(it, n))\n",
    "        if not chunk:\n",
    "            return\n",
    "        yield chunk"
   ]
  },
  {
   "cell_type": "code",
   "execution_count": 37,
   "id": "489ee006-342a-45bf-8220-67e4f22650e8",
   "metadata": {},
   "outputs": [],
   "source": [
    "def encrypt(plaintext, key):\n",
    "    v = _str2vec(plaintext.encode())\n",
    "    k = _str2vec(key.encode()[:16])\n",
    "    bytearray = b''.join(_vec2str(_encipher(chunk, k))for chunk in _chunks(v, 2))\n",
    "    return base64.b64encode(bytearray).decode()\n"
   ]
  },
  {
   "cell_type": "code",
   "execution_count": 40,
   "id": "57f28e80-3707-4bf2-b8ed-a0d9f4c2eb22",
   "metadata": {},
   "outputs": [
    {
     "ename": "ValueError",
     "evalue": "not enough values to unpack (expected 2, got 1)",
     "output_type": "error",
     "traceback": [
      "\u001b[1;31m---------------------------------------------------------------------------\u001b[0m",
      "\u001b[1;31mValueError\u001b[0m                                Traceback (most recent call last)",
      "Cell \u001b[1;32mIn [40], line 1\u001b[0m\n\u001b[1;32m----> 1\u001b[0m \u001b[38;5;28mprint\u001b[39m(\u001b[43mencrypt\u001b[49m\u001b[43m(\u001b[49m\u001b[38;5;124;43m'\u001b[39;49m\u001b[38;5;124;43mhello\u001b[39;49m\u001b[38;5;124;43m'\u001b[39;49m\u001b[43m,\u001b[49m\u001b[38;5;124;43m'\u001b[39;49m\u001b[38;5;124;43m0123456789abcdef\u001b[39;49m\u001b[38;5;124;43m'\u001b[39;49m\u001b[43m)\u001b[49m)\n",
      "Cell \u001b[1;32mIn [37], line 4\u001b[0m, in \u001b[0;36mencrypt\u001b[1;34m(plaintext, key)\u001b[0m\n\u001b[0;32m      2\u001b[0m v \u001b[38;5;241m=\u001b[39m _str2vec(plaintext\u001b[38;5;241m.\u001b[39mencode())\n\u001b[0;32m      3\u001b[0m k \u001b[38;5;241m=\u001b[39m _str2vec(key\u001b[38;5;241m.\u001b[39mencode()[:\u001b[38;5;241m16\u001b[39m])\n\u001b[1;32m----> 4\u001b[0m \u001b[38;5;28mbytearray\u001b[39m \u001b[38;5;241m=\u001b[39m \u001b[38;5;124;43mb\u001b[39;49m\u001b[38;5;124;43m'\u001b[39;49m\u001b[38;5;124;43m'\u001b[39;49m\u001b[38;5;241;43m.\u001b[39;49m\u001b[43mjoin\u001b[49m\u001b[43m(\u001b[49m\u001b[43m_vec2str\u001b[49m\u001b[43m(\u001b[49m\u001b[43m_encipher\u001b[49m\u001b[43m(\u001b[49m\u001b[43mchunk\u001b[49m\u001b[43m,\u001b[49m\u001b[43m \u001b[49m\u001b[43mk\u001b[49m\u001b[43m)\u001b[49m\u001b[43m)\u001b[49m\u001b[38;5;28;43;01mfor\u001b[39;49;00m\u001b[43m \u001b[49m\u001b[43mchunk\u001b[49m\u001b[43m \u001b[49m\u001b[38;5;129;43;01min\u001b[39;49;00m\u001b[43m \u001b[49m\u001b[43m_chunks\u001b[49m\u001b[43m(\u001b[49m\u001b[43mv\u001b[49m\u001b[43m,\u001b[49m\u001b[43m \u001b[49m\u001b[38;5;241;43m2\u001b[39;49m\u001b[43m)\u001b[49m\u001b[43m)\u001b[49m\n\u001b[0;32m      5\u001b[0m \u001b[38;5;28;01mreturn\u001b[39;00m base64\u001b[38;5;241m.\u001b[39mb64encode(\u001b[38;5;28mbytearray\u001b[39m)\u001b[38;5;241m.\u001b[39mdecode()\n",
      "Cell \u001b[1;32mIn [37], line 4\u001b[0m, in \u001b[0;36m<genexpr>\u001b[1;34m(.0)\u001b[0m\n\u001b[0;32m      2\u001b[0m v \u001b[38;5;241m=\u001b[39m _str2vec(plaintext\u001b[38;5;241m.\u001b[39mencode())\n\u001b[0;32m      3\u001b[0m k \u001b[38;5;241m=\u001b[39m _str2vec(key\u001b[38;5;241m.\u001b[39mencode()[:\u001b[38;5;241m16\u001b[39m])\n\u001b[1;32m----> 4\u001b[0m \u001b[38;5;28mbytearray\u001b[39m \u001b[38;5;241m=\u001b[39m \u001b[38;5;124mb\u001b[39m\u001b[38;5;124m'\u001b[39m\u001b[38;5;124m'\u001b[39m\u001b[38;5;241m.\u001b[39mjoin(_vec2str(\u001b[43m_encipher\u001b[49m\u001b[43m(\u001b[49m\u001b[43mchunk\u001b[49m\u001b[43m,\u001b[49m\u001b[43m \u001b[49m\u001b[43mk\u001b[49m\u001b[43m)\u001b[49m)\u001b[38;5;28;01mfor\u001b[39;00m chunk \u001b[38;5;129;01min\u001b[39;00m _chunks(v, \u001b[38;5;241m2\u001b[39m))\n\u001b[0;32m      5\u001b[0m \u001b[38;5;28;01mreturn\u001b[39;00m base64\u001b[38;5;241m.\u001b[39mb64encode(\u001b[38;5;28mbytearray\u001b[39m)\u001b[38;5;241m.\u001b[39mdecode()\n",
      "Cell \u001b[1;32mIn [34], line 2\u001b[0m, in \u001b[0;36m_encipher\u001b[1;34m(m, k)\u001b[0m\n\u001b[0;32m      1\u001b[0m \u001b[38;5;28;01mdef\u001b[39;00m \u001b[38;5;21m_encipher\u001b[39m(m, k):\n\u001b[1;32m----> 2\u001b[0m     y, z \u001b[38;5;241m=\u001b[39m [ctypes\u001b[38;5;241m.\u001b[39mc_uint32(x)\n\u001b[0;32m      3\u001b[0m             \u001b[38;5;28;01mfor\u001b[39;00m x \u001b[38;5;129;01min\u001b[39;00m m]\n\u001b[0;32m      4\u001b[0m     \u001b[38;5;28msum\u001b[39m \u001b[38;5;241m=\u001b[39m ctypes\u001b[38;5;241m.\u001b[39mc_uint32(\u001b[38;5;241m0\u001b[39m)\n\u001b[0;32m      5\u001b[0m     delta \u001b[38;5;241m=\u001b[39m \u001b[38;5;241m0x9E3779B9\u001b[39m\n",
      "\u001b[1;31mValueError\u001b[0m: not enough values to unpack (expected 2, got 1)"
     ]
    }
   ],
   "source": [
    "print(encrypt('hello','0123456789abcdef'))"
   ]
  },
  {
   "cell_type": "code",
   "execution_count": null,
   "id": "be03363e-56d1-4858-b7c0-37f51a9164d9",
   "metadata": {},
   "outputs": [],
   "source": []
  }
 ],
 "metadata": {
  "kernelspec": {
   "display_name": "Python 3 (ipykernel)",
   "language": "python",
   "name": "python3"
  },
  "language_info": {
   "codemirror_mode": {
    "name": "ipython",
    "version": 3
   },
   "file_extension": ".py",
   "mimetype": "text/x-python",
   "name": "python",
   "nbconvert_exporter": "python",
   "pygments_lexer": "ipython3",
   "version": "3.10.7"
  }
 },
 "nbformat": 4,
 "nbformat_minor": 5
}
